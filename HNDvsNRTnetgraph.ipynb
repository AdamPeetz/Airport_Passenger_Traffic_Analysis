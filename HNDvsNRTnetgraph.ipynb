{
 "cells": [
  {
   "cell_type": "code",
   "execution_count": 3,
   "id": "a65cfa5c",
   "metadata": {},
   "outputs": [],
   "source": [
    "# import required libraries\n",
    "import pandas as pd\n",
    "import numpy as np\n",
    "import networkx as nx\n",
    "import plotly.graph_objects as go"
   ]
  },
  {
   "cell_type": "code",
   "execution_count": 4,
   "id": "884ab96f",
   "metadata": {},
   "outputs": [],
   "source": [
    "#import routes and manipulate data to extract graph weights\n",
    "#https://www.kaggle.com/datasets/open-flights/flight-route-databasev\n",
    "\n",
    "#load dataframe\n",
    "routes_df = pd.read_csv('routes.csv', sep=',')\n",
    "\n",
    "#filter for clusters\n",
    "atl_df = routes_df.loc[routes_df[' destination apirport'].isin(['NRT'])]"
   ]
  },
  {
   "cell_type": "code",
   "execution_count": 8,
   "id": "88f8283d",
   "metadata": {},
   "outputs": [],
   "source": [
    "#create analysis CSV\n",
    "atl_df.to_csv('compout.csv')"
   ]
  },
  {
   "cell_type": "code",
   "execution_count": 9,
   "id": "d5b47d9a",
   "metadata": {},
   "outputs": [],
   "source": [
    "#generate graph object\n",
    "G = nx.from_pandas_edgelist(atl_df,\n",
    "                           source=' source airport',\n",
    "                           target=' destination apirport',\n",
    "                           )"
   ]
  },
  {
   "cell_type": "code",
   "execution_count": 10,
   "id": "0669c701",
   "metadata": {},
   "outputs": [],
   "source": [
    "#define node latitude and logitutde\n",
    "attrs ={'NRT':{'pos':[140, 35]},\n",
    "        'HND':{'pos':[139, 35]},\n",
    "        'MNL':{'pos':[121, 14]},\n",
    "        'ICN':{'pos':[126, 37]},\n",
    "        'FUK':{'pos':[130, 33]},\n",
    "        'KIX':{'pos':[135, 34]},\n",
    "        'KKJ':{'pos':[131, 33]},\n",
    "        'BOM':{'pos':[72, 19]},\n",
    "        'BKK':{'pos':[100, 13]},\n",
    "        'BOS':{'pos':[-71, 42]},\n",
    "        'CTS':{'pos':[141, 42]},\n",
    "        'DFW':{'pos':[-97, 32]},\n",
    "        'HAN':{'pos':[105, 21]},\n",
    "        'HKG':{'pos':[113, 22]},\n",
    "        'HNL':{'pos':[-157, 21]},\n",
    "        'ITM':{'pos':[135, 34]},\n",
    "        'JFK':{'pos':[-73, 40]},\n",
    "        'KHH':{'pos':[120, 22]},\n",
    "        'KUL':{'pos':[101, 2]},\n",
    "        'LAX':{'pos':[-118, 33]},\n",
    "        'NGO':{'pos':[136, 34]},\n",
    "        'ORD':{'pos':[-87, 41]},\n",
    "        'PUS':{'pos':[128, 35]},\n",
    "        'SAN':{'pos':[-117, 32]},\n",
    "        'SFO':{'pos':[-122, 37]},\n",
    "        'SGN':{'pos':[106, 10]},\n",
    "        'SIN':{'pos':[103, 1]},\n",
    "        'TPE':{'pos':[121, 25]},\n",
    "        'YVR':{'pos':[-123, 49]},\n",
    "        'YYC':{'pos':[-114, 51]},\n",
    "        'YYZ':{'pos':[-79, 43]},\n",
    "        'CDG':{'pos':[2, 49]},\n",
    "        'ROR':{'pos':[134, 7]},\n",
    "        'DEL':{'pos':[77, 28]},\n",
    "        'TIJ':{'pos':[-116, 32]},\n",
    "        'HEL':{'pos':[24, 60]},\n",
    "        'FCO':{'pos':[12, 41]},\n",
    "        'MXP':{'pos':[8, 45]},\n",
    "        'VCE':{'pos':[12, 45]},\n",
    "        'LHR':{'pos':[0, 51]},\n",
    "        'KOJ':{'pos':[130, 31]},\n",
    "        'OKA':{'pos':[127, 26]},\n",
    "        'UKB':{'pos':[135, 34]},\n",
    "        'YGJ':{'pos':[133, 35]},\n",
    "        'TSA':{'pos':[121, 25]},\n",
    "        'CAN':{'pos':[113, 23]},\n",
    "        'CTU':{'pos':[103, 30]},\n",
    "        'DLC':{'pos':[121, 38]},\n",
    "        'HGH':{'pos':[120, 30]},\n",
    "        'PEK':{'pos':[116, 40]},\n",
    "        'PVG':{'pos':[121, 31]},\n",
    "        'SHA':{'pos':[121, 31]},\n",
    "        'SHE':{'pos':[123, 41]},\n",
    "        'TAO':{'pos':[120, 36]},\n",
    "        'XMN':{'pos':[118, 24]},\n",
    "        'CGQ':{'pos':[125, 43]},\n",
    "        'ATL':{'pos':[-84, 33]},\n",
    "        'DTW':{'pos':[-83, 42]},\n",
    "        'GUM':{'pos':[144, 13]},\n",
    "        'MSP':{'pos':[-93, 44]},\n",
    "        'PDX':{'pos':[-122, 45]},\n",
    "        'SEA':{'pos':[-122, 47]},\n",
    "        'SPN':{'pos':[145, 15]},\n",
    "        'DXB':{'pos':[55, 25]},\n",
    "        'AUH':{'pos':[54, 24]},\n",
    "        'HIJ':{'pos':[132, 34]},\n",
    "        'KMQ':{'pos':[136, 36]},\n",
    "        'CGK':{'pos':[106, -6]},\n",
    "        'DPS':{'pos':[115, -8]},\n",
    "        'MYJ':{'pos':[132, 33]},\n",
    "        'OIT':{'pos':[131, 33]},\n",
    "        'TAK':{'pos':[134, 34]},\n",
    "        'AKJ':{'pos':[142, 43]},\n",
    "        'HKD':{'pos':[140, 41]},\n",
    "        'KUH':{'pos':[144, 43]},\n",
    "        'MMB':{'pos':[144, 43]},\n",
    "        'OBO':{'pos':[143, 42]},\n",
    "        'TAS':{'pos':[69, 41]},\n",
    "        'UUS':{'pos':[142, 46]},\n",
    "        'AOJ':{'pos':[140, 40]},\n",
    "        'ASJ':{'pos':[129, 28]},\n",
    "        'AXT':{'pos':[140, 39]},\n",
    "        'BKI':{'pos':[116, 5]},\n",
    "        'CJU':{'pos':[126, 33]},\n",
    "        'CNS':{'pos':[145, -16]},\n",
    "        'DME':{'pos':[37, 55]},\n",
    "        'DOH':{'pos':[51, 25]},\n",
    "        'FRA':{'pos':[8, 50]},\n",
    "        'GAJ':{'pos':[140, 38]},\n",
    "        'GMP':{'pos':[126, 37]},\n",
    "        'IZO':{'pos':[132, 35]},\n",
    "        'KCZ':{'pos':[133, 33]},\n",
    "        'KHV':{'pos':[135, 48]},\n",
    "        'KMI':{'pos':[131, 31]},\n",
    "        'KMJ':{'pos':[130, 32]},\n",
    "        'MSJ':{'pos':[141, 40]},\n",
    "        'NGS':{'pos':[129, 32]},\n",
    "        'NKG':{'pos':[118, 31]},\n",
    "        'OKJ':{'pos':[133, 34]},\n",
    "        'OOL':{'pos':[153, -28]},\n",
    "        'PPT':{'pos':[-149, -17]},\n",
    "        'SHM':{'pos':[135, 33]},\n",
    "        'SYD':{'pos':[151, -33]},\n",
    "        'TKS':{'pos':[134, 34]},\n",
    "        'UBJ':{'pos':[131, 33]},\n",
    "        'VVO':{'pos':[132, 43]},\n",
    "        'MEL':{'pos':[144, -37]},\n",
    "        'AMS':{'pos':[4, 52]},\n",
    "        'DUS':{'pos':[6, 51]},\n",
    "        'MUC':{'pos':[11, 48]},\n",
    "        'ZRH':{'pos':[8, 47]},\n",
    "        'AKL':{'pos':[174, -37]},\n",
    "        'DEN':{'pos':[-104, 39]},\n",
    "        'EWR':{'pos':[-74, 40]},\n",
    "        'HAC':{'pos':[139, 33]},\n",
    "        'HSG':{'pos':[130, 33]},\n",
    "        'IAD':{'pos':[-77, 38]},\n",
    "        'IAH':{'pos':[-95, 29]},\n",
    "        'ISG':{'pos':[124, 24]},\n",
    "        'IST':{'pos':[28, 41]},\n",
    "        'IWJ':{'pos':[131, 34]},\n",
    "        'IWK':{'pos':[132, 34]},\n",
    "        'KIJ':{'pos':[139, 37]},\n",
    "        'MBE':{'pos':[143, 44]},\n",
    "        'MFM':{'pos':[113, 22]},\n",
    "        'NTQ':{'pos':[136, 37]},\n",
    "        'OIM':{'pos':[139, 34]},\n",
    "        'ONJ':{'pos':[140, 40]},\n",
    "        'RGN':{'pos':[96, 16]},\n",
    "        'SDJ':{'pos':[140, 38]},\n",
    "        'SHB':{'pos':[144, 43]},\n",
    "        'SJC':{'pos':[-121, 37]},\n",
    "        'SYO':{'pos':[139, 38]},\n",
    "        'TOY':{'pos':[137, 36]},\n",
    "        'TTJ':{'pos':[134, 35]},\n",
    "        'VIE':{'pos':[16, 48]},\n",
    "        'WKJ':{'pos':[141, 45]},\n",
    "        'MMY':{'pos':[125, 24]},\n",
    "        'ULN':{'pos':[106, 47]},\n",
    "        'CEB':{'pos':[123, 10]},\n",
    "        'POM':{'pos':[147, -9]},\n",
    "        'NOU':{'pos':[166, -22]},\n",
    "        'CPH':{'pos':[12, 55]},\n",
    "        'SVO':{'pos':[37, 55]},\n",
    "        'CMB':{'pos':[79, 7]},\n",
    "       }\n",
    "\n",
    "nx.set_node_attributes(G, attrs)"
   ]
  },
  {
   "cell_type": "code",
   "execution_count": 18,
   "id": "f0f059d4",
   "metadata": {},
   "outputs": [],
   "source": [
    "#define node display attributes\n",
    "attrs ={'NRT':{'name':'Tokyo, Japan - Connections: 103'},\n",
    "        'HND':{'name':'Tokyo, Japan - Connections: 74'},\n",
    "        'MNL':{'name':'Manila, Philippines - Connections: 78'},\n",
    "        'ICN':{'name':'Seoul, South Korea - Connections: 131'},\n",
    "        'FUK':{'name':'Fukuoka, Japan - Connections: 37'},\n",
    "        'KIX':{'name':'Osaka, Japan - Connections: 57'},\n",
    "        'KKJ':{'name':'Kitakyushu, Japan - Connections: 1'},\n",
    "        'BOM':{'name':'Mumbai, India - Connections: 82'},\n",
    "        'BKK':{'name':'Bangkok, Thailand - Connections: 121'},\n",
    "        'BOS':{'name':'Boston, United States - Connections: 102'},\n",
    "        'CTS':{'name':'Sapporo, Japan - Connections: 36'},\n",
    "        'DFW':{'name':'Dallas-Fort Worth, United States - Connections: 185'},\n",
    "        'HAN':{'name':'Hanoi, Vietnam - Connections: 46'},\n",
    "        'HKG':{'name':'Hong Kong, Hong Kong - Connections: 134'},\n",
    "        'HNL':{'name':'Honolulu, United States - Connections: 50'},\n",
    "        'ITM':{'name':'Osaka, Japan - Connections: 22'},\n",
    "        'JFK':{'name':'New York, United States - Connections: 160'},\n",
    "        'KHH':{'name':'Kaohsiung, Taiwan - Connections: 37'},\n",
    "        'KUL':{'name':'Kuala Lumpur, Malaysia - Connections: 111'},\n",
    "        'LAX':{'name':'Los Angeles, United States - Connections: 148'},\n",
    "        'NGO':{'name':'Nagoya, Japan - Connections: 43'},\n",
    "        'ORD':{'name':'Chicago, United States - Connections: 203'},\n",
    "        'PUS':{'name':'Busan, South Korea - Connections: 36'},\n",
    "        'SAN':{'name':'San Diego, United States - Connections: 56'},\n",
    "        'SFO':{'name':'San Francisco, United States - Connections: 104'},\n",
    "        'SGN':{'name':'Ho Chi Minh City, Vietnam - Connections: 54'},\n",
    "        'SIN':{'name':'Singapore, Singapore - Connections: 125'},\n",
    "        'TPE':{'name':'Taipei, Taiwan - Connections: 102'},\n",
    "        'YVR':{'name':'Vancouver, Canada - Connections: 75'},\n",
    "        'YYC':{'name':'Calgary, Canada - Connections: 60'},\n",
    "        'YYZ':{'name':'Toronto, Canada - Connections: 146'},\n",
    "        'CDG':{'name':'Paris, France - Connections: 233'},\n",
    "        'ROR':{'name':'Babelthuap, Palau - Connections: 6'},\n",
    "        'DEL':{'name':'Delhi, India - Connections: 97'},\n",
    "        'TIJ':{'name':'Tijuana, Mexico - Connections: 31'},\n",
    "        'HEL':{'name':'Helsinki, Finland - Connections: 88'},\n",
    "        'FCO':{'name':'Rome, Italy - Connections: 159'},\n",
    "        'MXP':{'name':'Milano, Italy - Connections: 111'},\n",
    "        'VCE':{'name':'Venice, Italy - Connections: 73'},\n",
    "        'LHR':{'name':'London, United Kingdom - Connections: 171'},\n",
    "        'KOJ':{'name':'Kagoshima, Japan - Connections: 12'},\n",
    "        'OKA':{'name':'Okinawa, Japan - Connections: 32'},\n",
    "        'UKB':{'name':'Kobe, Japan - Connections: 8'},\n",
    "        'YGJ':{'name':'Miho, Japan - Connections: 6'},\n",
    "        'TSA':{'name':'Taipei, Taiwan - Connections: 19'},\n",
    "        'CAN':{'name':'Guangzhou, China - Connections: 149'},\n",
    "        'CTU':{'name':'Chengdu, China - Connections: 108'},\n",
    "        'DLC':{'name':'Dalian, China - Connections: 59'},\n",
    "        'HGH':{'name':'Hangzhou, China - Connections: 72'},\n",
    "        'PEK':{'name':'Beijing, China - Connections: 206'},\n",
    "        'PVG':{'name':'Shanghai, China - Connections: 153'},\n",
    "        'SHA':{'name':'Shanghai, China - Connections: 68'},\n",
    "        'SHE':{'name':'Shenyang, China - Connections: 62'},\n",
    "        'TAO':{'name':'Qingdao, China - Connections: 54'},\n",
    "        'XMN':{'name':'Xiamen, China - Connections: 72'},\n",
    "        'CGQ':{'name':'Changchun, China - Connections: 29'},\n",
    "        'ATL':{'name':'Atlanta, United States - Connections: 216'},\n",
    "        'DTW':{'name':'Detroit, United States - Connections: 134'},\n",
    "        'GUM':{'name':'Agana, Guam - Connections: 19'},\n",
    "        'MSP':{'name':'Minneapolis, United States - Connections: 130'},\n",
    "        'PDX':{'name':'Portland, United States - Connections: 57'},\n",
    "        'SEA':{'name':'Seattle, United States - Connections: 94'},\n",
    "        'SPN':{'name':'Saipan, Northern Mariana Islands - Connections: 9'},\n",
    "        'DXB':{'name':'Dubai, United Arab Emirates - Connections: 182'},\n",
    "        'AUH':{'name':'Abu Dhabi, United Arab Emirates - Connections: 89'},\n",
    "        'HIJ':{'name':'Hiroshima, Japan - Connections: 9'},\n",
    "        'KMQ':{'name':'Kanazawa, Japan - Connections: 9'},\n",
    "        'CGK':{'name':'Jakarta, Indonesia - Connections: 63'},\n",
    "        'DPS':{'name':'Denpasar, Indonesia - Connections: 42'},\n",
    "        'MYJ':{'name':'Matsuyama, Japan - Connections: 8'},\n",
    "        'OIT':{'name':'Oita, Japan - Connections: 5'},\n",
    "        'TAK':{'name':'Takamatsu, Japan - Connections: 6'},\n",
    "        'AKJ':{'name':'Asahikawa, Japan - Connections: 3'},\n",
    "        'HKD':{'name':'Hakodate, Japan - Connections: 6'},\n",
    "        'KUH':{'name':'Kushiro, Japan - Connections: 3'},\n",
    "        'MMB':{'name':'Memanbetsu, Japan - Connections: 3'},\n",
    "        'OBO':{'name':'Obihiro, Japan - Connections: 1'},\n",
    "        'TAS':{'name':'Tashkent, Uzbekistan - Connections: 56'},\n",
    "        'UUS':{'name':'Yuzhno-sakhalinsk, Russia - Connections: 12'},\n",
    "        'AOJ':{'name':'Aomori, Japan - Connections: 5'},\n",
    "        'ASJ':{'name':'Amami, Japan - Connections: 2'},\n",
    "        'AXT':{'name':'Akita, Japan - Connections: 5'},\n",
    "        'BKI':{'name':'Kota Kinabalu, Malaysia - Connections: 30'},\n",
    "        'CJU':{'name':'Cheju, South Korea - Connections: 33'},\n",
    "        'CNS':{'name':'Cairns, Australia - Connections: 29'},\n",
    "        'DME':{'name':'Moscow, Russia - Connections: 189'},\n",
    "        'DOH':{'name':'Doha, Qatar - Connections: 118'},\n",
    "        'FRA':{'name':'Frankfurt, Germany - Connections: 238'},\n",
    "        'GAJ':{'name':'Yamagata, Japan - Connections: 3'},\n",
    "        'GMP':{'name':'Seoul, South Korea - Connections: 13'},\n",
    "        'IZO':{'name':'Izumo, Japan - Connections: 1'},\n",
    "        'KCZ':{'name':'Kochi, Japan - Connections: 3'},\n",
    "        'KHV':{'name':'Khabarovsk, Russia - Connections: 23'},\n",
    "        'KMI':{'name':'Miyazaki, Japan - Connections: 7'},\n",
    "        'KMJ':{'name':'Kumamoto, Japan - Connections: 6'},\n",
    "        'MSJ':{'name':'Misawa, Japan - Connections: 2'},\n",
    "        'NGS':{'name':'Nagasaki, Japan - Connections: 11'},\n",
    "        'NKG':{'name':'Nanjing, China - Connections: 54'},\n",
    "        'OKJ':{'name':'Okayama, Japan - Connections: 8'},\n",
    "        'OOL':{'name':'Coolangatta, Australia - Connections: 13'},\n",
    "        'PPT':{'name':'Papeete, French Polynesia - Connections: 29'},\n",
    "        'SHM':{'name':'Nanki-shirahama, Japan - Connections: 1'},\n",
    "        'SYD':{'name':'Sydney, Australia - Connections: 83'},\n",
    "        'TKS':{'name':'Tokushima, Japan - Connections: 1'},\n",
    "        'UBJ':{'name':'Yamaguchi, Japan - Connections: 2'},\n",
    "        'VVO':{'name':'Vladivostok, Russia - Connections: 15'},\n",
    "        'MEL':{'name':'Melbourne, Australia - Connections: 54'},\n",
    "        'AMS':{'name':'Amsterdam, Netherlands - Connections: 231'},\n",
    "        'DUS':{'name':'Duesseldorf, Germany - Connections: 147'},\n",
    "        'MUC':{'name':'Munich, Germany - Connections: 189'},\n",
    "        'ZRH':{'name':'Zurich, Switzerland - Connections: 136'},\n",
    "        'AKL':{'name':'Auckland, New Zealand - Connections: 50'},\n",
    "        'DEN':{'name':'Denver, United States - Connections: 168'},\n",
    "        'EWR':{'name':'Newark, United States - Connections: 152'},\n",
    "        'HAC':{'name':'Hachijojima, Japan - Connections: 1'},\n",
    "        'HSG':{'name':'Saga, Japan - Connections: 2'},\n",
    "        'IAD':{'name':'Washington, United States - Connections: 122'},\n",
    "        'IAH':{'name':'Houston, United States - Connections: 168'},\n",
    "        'ISG':{'name':'Ishigaki, Japan - Connections: 7'},\n",
    "        'IST':{'name':'Istanbul, Turkey - Connections: 230'},\n",
    "        'IWJ':{'name':'Iwami, Japan - Connections: 1'},\n",
    "        'IWK':{'name':'Iwakuni, Japan - Connections: 1'},\n",
    "        'KIJ':{'name':'Niigata, Japan - Connections: 10'},\n",
    "        'MBE':{'name':'Monbetsu, Japan - Connections: 1'},\n",
    "        'MFM':{'name':'Macau, Macau - Connections: 38'},\n",
    "        'NTQ':{'name':'Wajima, Japan - Connections: 1'},\n",
    "        'OIM':{'name':'Oshima, Japan - Connections: 1'},\n",
    "        'ONJ':{'name':'Odate Noshiro, Japan - Connections: 1'},\n",
    "        'RGN':{'name':'Yangon, Burma - Connections: 29'},\n",
    "        'SDJ':{'name':'Sendai, Japan - Connections: 15'},\n",
    "        'SHB':{'name':'Nakashibetsu, Japan - Connections: 2'},\n",
    "        'SJC':{'name':'San Jose, United States - Connections: 30'},\n",
    "        'SYO':{'name':'Shonai, Japan - Connections: 1'},\n",
    "        'TOY':{'name':'Toyama, Japan - Connections: 6'},\n",
    "        'TTJ':{'name':'Tottori, Japan - Connections: 1'},\n",
    "        'VIE':{'name':'Vienna, Austria - Connections: 138'},\n",
    "        'WKJ':{'name':'Wakkanai, Japan - Connections: 2'},\n",
    "        'MMY':{'name':'Miyako, Japan - Connections: 3'},\n",
    "        'ULN':{'name':'Ulan Bator, Mongolia - Connections: 14'},\n",
    "        'CEB':{'name':'Cebu, Philippines - Connections: 29'},\n",
    "        'POM':{'name':'Port Moresby, Papua New Guinea - Connections: 34'},\n",
    "        'NOU':{'name':'Noumea, New Caledonia - Connections: 9'},\n",
    "        'CPH':{'name':'Copenhagen, Denmark - Connections: 120'},\n",
    "        'SVO':{'name':'Moscow, Russia - Connections: 144'},\n",
    "        'CMB':{'name':'Colombo, Sri Lanka - Connections: 41'},\n",
    "       }\n",
    "\n",
    "nx.set_node_attributes(G, attrs)"
   ]
  },
  {
   "cell_type": "code",
   "execution_count": 11,
   "id": "f948aa50",
   "metadata": {},
   "outputs": [
    {
     "ename": "KeyError",
     "evalue": "'name'",
     "output_type": "error",
     "traceback": [
      "\u001b[1;31m---------------------------------------------------------------------------\u001b[0m",
      "\u001b[1;31mKeyError\u001b[0m                                  Traceback (most recent call last)",
      "Input \u001b[1;32mIn [11]\u001b[0m, in \u001b[0;36m<cell line: 2>\u001b[1;34m()\u001b[0m\n\u001b[0;32m      1\u001b[0m \u001b[38;5;66;03m#test name data structure\u001b[39;00m\n\u001b[1;32m----> 2\u001b[0m \u001b[43mG\u001b[49m\u001b[38;5;241;43m.\u001b[39;49m\u001b[43mnodes\u001b[49m\u001b[43m[\u001b[49m\u001b[38;5;124;43m'\u001b[39;49m\u001b[38;5;124;43mORD\u001b[39;49m\u001b[38;5;124;43m'\u001b[39;49m\u001b[43m]\u001b[49m\u001b[43m[\u001b[49m\u001b[38;5;124;43m'\u001b[39;49m\u001b[38;5;124;43mname\u001b[39;49m\u001b[38;5;124;43m'\u001b[39;49m\u001b[43m]\u001b[49m\n",
      "\u001b[1;31mKeyError\u001b[0m: 'name'"
     ]
    }
   ],
   "source": [
    "#test name data structure\n",
    "G.nodes['ORD']['name']"
   ]
  },
  {
   "cell_type": "code",
   "execution_count": 12,
   "id": "00b4e02a",
   "metadata": {},
   "outputs": [
    {
     "data": {
      "text/plain": [
       "[-87, 41]"
      ]
     },
     "execution_count": 12,
     "metadata": {},
     "output_type": "execute_result"
    }
   ],
   "source": [
    "#test latitude and logitude structure\n",
    "G.nodes['ORD']['pos']"
   ]
  },
  {
   "cell_type": "code",
   "execution_count": 17,
   "id": "3b2a6fc7",
   "metadata": {},
   "outputs": [],
   "source": [
    "#edge graph code\n",
    "#https://plotly.com/python/network-graphs/\n",
    "edge_x = []\n",
    "edge_y = []\n",
    "for edge in G.edges():\n",
    "    x0, y0 = G.nodes[edge[0]]['pos']\n",
    "    x1, y1 = G.nodes[edge[1]]['pos']\n",
    "    edge_x.append(x0)\n",
    "    edge_x.append(x1)\n",
    "    edge_x.append(None)\n",
    "    edge_y.append(y0)\n",
    "    edge_y.append(y1)\n",
    "    edge_y.append(None)\n",
    "\n",
    "edge_trace = go.Scatter(\n",
    "    x=edge_x, y=edge_y,\n",
    "    line=dict(width=0.5, color='#888'),\n",
    "    hoverinfo='none',\n",
    "    mode='lines')\n",
    "\n",
    "node_x = []\n",
    "node_y = []\n",
    "for node in G.nodes():\n",
    "    x, y = G.nodes[node]['pos']\n",
    "    node_x.append(x)\n",
    "    node_y.append(y)\n",
    "\n",
    "node_trace = go.Scatter(\n",
    "    x=node_x, y=node_y,\n",
    "    mode='markers',\n",
    "    hoverinfo='text',\n",
    "    marker=dict(\n",
    "        showscale=False,\n",
    "        # colorscale options\n",
    "        #'Greys' | 'YlGnBu' | 'Greens' | 'YlOrRd' | 'Bluered' | 'RdBu' |\n",
    "        #'Reds' | 'Blues' | 'Picnic' | 'Rainbow' | 'Portland' | 'Jet' |\n",
    "        #'Hot' | 'Blackbody' | 'Earth' | 'Electric' | 'Viridis' |\n",
    "        colorscale='Reds',\n",
    "        reversescale=False,\n",
    "        color=[],\n",
    "        size=6,\n",
    "        colorbar=dict(\n",
    "            thickness=15,\n",
    "            title='Node Connections',\n",
    "            xanchor='left',\n",
    "            titleside='right'\n",
    "        ),\n",
    "        line_width=2))"
   ]
  },
  {
   "cell_type": "code",
   "execution_count": 18,
   "id": "584e8065",
   "metadata": {},
   "outputs": [],
   "source": [
    "#set color by node adjacency\n",
    "node_adjacencies = []\n",
    "adjacency_text = []\n",
    "for node, adjacencies in enumerate(G.adjacency()):\n",
    "    node_adjacencies.append(len(adjacencies[1]))\n",
    "    adjacency_text.append('Connections '+str(len(adjacencies[1])))\n",
    "\n",
    "node_trace.marker.color = node_adjacencies"
   ]
  },
  {
   "cell_type": "code",
   "execution_count": 19,
   "id": "75336d23",
   "metadata": {},
   "outputs": [
    {
     "ename": "KeyError",
     "evalue": "'name'",
     "output_type": "error",
     "traceback": [
      "\u001b[1;31m---------------------------------------------------------------------------\u001b[0m",
      "\u001b[1;31mKeyError\u001b[0m                                  Traceback (most recent call last)",
      "Input \u001b[1;32mIn [19]\u001b[0m, in \u001b[0;36m<cell line: 3>\u001b[1;34m()\u001b[0m\n\u001b[0;32m      2\u001b[0m node_text \u001b[38;5;241m=\u001b[39m []\n\u001b[0;32m      3\u001b[0m \u001b[38;5;28;01mfor\u001b[39;00m node \u001b[38;5;129;01min\u001b[39;00m G\u001b[38;5;241m.\u001b[39mnodes():\n\u001b[1;32m----> 4\u001b[0m     names \u001b[38;5;241m=\u001b[39m \u001b[43mG\u001b[49m\u001b[38;5;241;43m.\u001b[39;49m\u001b[43mnodes\u001b[49m\u001b[43m[\u001b[49m\u001b[43mnode\u001b[49m\u001b[43m]\u001b[49m\u001b[43m[\u001b[49m\u001b[38;5;124;43m'\u001b[39;49m\u001b[38;5;124;43mname\u001b[39;49m\u001b[38;5;124;43m'\u001b[39;49m\u001b[43m]\u001b[49m\n\u001b[0;32m      5\u001b[0m     node_text\u001b[38;5;241m.\u001b[39mappend(\u001b[38;5;28mstr\u001b[39m(names))\n\u001b[0;32m      7\u001b[0m node_trace\u001b[38;5;241m.\u001b[39mtext \u001b[38;5;241m=\u001b[39m node_text\n",
      "\u001b[1;31mKeyError\u001b[0m: 'name'"
     ]
    }
   ],
   "source": [
    "#assign node hover text\n",
    "node_text = []\n",
    "for node in G.nodes():\n",
    "    names = G.nodes[node]['name']\n",
    "    node_text.append(str(names))\n",
    "    \n",
    "node_trace.text = node_text"
   ]
  },
  {
   "cell_type": "code",
   "execution_count": 20,
   "id": "6a236116",
   "metadata": {},
   "outputs": [
    {
     "data": {
      "application/vnd.plotly.v1+json": {
       "config": {
        "plotlyServerURL": "https://plot.ly"
       },
       "data": [
        {
         "hoverinfo": "none",
         "line": {
          "color": "#888",
          "width": 0.5
         },
         "mode": "lines",
         "type": "scatter",
         "x": [
          121,
          140,
          null,
          140,
          126,
          null,
          140,
          72,
          null,
          140,
          100,
          null,
          140,
          -71,
          null,
          140,
          141,
          null,
          140,
          -97,
          null,
          140,
          130,
          null,
          140,
          105,
          null,
          140,
          113,
          null,
          140,
          -157,
          null,
          140,
          135,
          null,
          140,
          -73,
          null,
          140,
          120,
          null,
          140,
          101,
          null,
          140,
          -118,
          null,
          140,
          136,
          null,
          140,
          -87,
          null,
          140,
          128,
          null,
          140,
          -117,
          null,
          140,
          106,
          null,
          140,
          103,
          null,
          140,
          121,
          null,
          140,
          -123,
          null,
          140,
          -114,
          null,
          140,
          -79,
          null,
          140,
          2,
          null,
          140,
          134,
          null,
          140,
          77,
          null,
          140,
          -116,
          null,
          140,
          24,
          null,
          140,
          12,
          null,
          140,
          8,
          null,
          140,
          12,
          null,
          140,
          0,
          null,
          140,
          127,
          null,
          140,
          133,
          null,
          140,
          113,
          null,
          140,
          103,
          null,
          140,
          121,
          null,
          140,
          120,
          null,
          140,
          116,
          null,
          140,
          121,
          null,
          140,
          123,
          null,
          140,
          120,
          null,
          140,
          118,
          null,
          140,
          125,
          null,
          140,
          -84,
          null,
          140,
          -83,
          null,
          140,
          144,
          null,
          140,
          -93,
          null,
          140,
          -122,
          null,
          140,
          -122,
          null,
          140,
          145,
          null,
          140,
          55,
          null,
          140,
          54,
          null,
          140,
          132,
          null,
          140,
          136,
          null,
          140,
          106,
          null,
          140,
          115,
          null,
          140,
          135,
          null,
          140,
          130,
          null,
          140,
          132,
          null,
          140,
          131,
          null,
          140,
          134,
          null,
          140,
          69,
          null,
          140,
          142,
          null,
          140,
          116,
          null,
          140,
          126,
          null,
          140,
          145,
          null,
          140,
          37,
          null,
          140,
          51,
          null,
          140,
          8,
          null,
          140,
          135,
          null,
          140,
          118,
          null,
          140,
          153,
          null,
          140,
          -149,
          null,
          140,
          151,
          null,
          140,
          132,
          null,
          140,
          144,
          null,
          140,
          4,
          null,
          140,
          6,
          null,
          140,
          8,
          null,
          140,
          174,
          null,
          140,
          -104,
          null,
          140,
          -74,
          null,
          140,
          -77,
          null,
          140,
          -95,
          null,
          140,
          28,
          null,
          140,
          139,
          null,
          140,
          113,
          null,
          140,
          96,
          null,
          140,
          140,
          null,
          140,
          -122,
          null,
          140,
          -121,
          null,
          140,
          16,
          null,
          140,
          106,
          null,
          140,
          123,
          null,
          140,
          147,
          null,
          140,
          166,
          null,
          140,
          12,
          null,
          140,
          37,
          null,
          140,
          79,
          null
         ],
         "y": [
          14,
          35,
          null,
          35,
          37,
          null,
          35,
          19,
          null,
          35,
          13,
          null,
          35,
          42,
          null,
          35,
          42,
          null,
          35,
          32,
          null,
          35,
          33,
          null,
          35,
          21,
          null,
          35,
          22,
          null,
          35,
          21,
          null,
          35,
          34,
          null,
          35,
          40,
          null,
          35,
          22,
          null,
          35,
          2,
          null,
          35,
          33,
          null,
          35,
          34,
          null,
          35,
          41,
          null,
          35,
          35,
          null,
          35,
          32,
          null,
          35,
          10,
          null,
          35,
          1,
          null,
          35,
          25,
          null,
          35,
          49,
          null,
          35,
          51,
          null,
          35,
          43,
          null,
          35,
          49,
          null,
          35,
          7,
          null,
          35,
          28,
          null,
          35,
          32,
          null,
          35,
          60,
          null,
          35,
          41,
          null,
          35,
          45,
          null,
          35,
          45,
          null,
          35,
          51,
          null,
          35,
          26,
          null,
          35,
          35,
          null,
          35,
          23,
          null,
          35,
          30,
          null,
          35,
          38,
          null,
          35,
          30,
          null,
          35,
          40,
          null,
          35,
          31,
          null,
          35,
          41,
          null,
          35,
          36,
          null,
          35,
          24,
          null,
          35,
          43,
          null,
          35,
          33,
          null,
          35,
          42,
          null,
          35,
          13,
          null,
          35,
          44,
          null,
          35,
          45,
          null,
          35,
          47,
          null,
          35,
          15,
          null,
          35,
          25,
          null,
          35,
          24,
          null,
          35,
          34,
          null,
          35,
          36,
          null,
          35,
          -6,
          null,
          35,
          -8,
          null,
          35,
          34,
          null,
          35,
          31,
          null,
          35,
          33,
          null,
          35,
          33,
          null,
          35,
          34,
          null,
          35,
          41,
          null,
          35,
          46,
          null,
          35,
          5,
          null,
          35,
          33,
          null,
          35,
          -16,
          null,
          35,
          55,
          null,
          35,
          25,
          null,
          35,
          50,
          null,
          35,
          48,
          null,
          35,
          31,
          null,
          35,
          -28,
          null,
          35,
          -17,
          null,
          35,
          -33,
          null,
          35,
          43,
          null,
          35,
          -37,
          null,
          35,
          52,
          null,
          35,
          51,
          null,
          35,
          47,
          null,
          35,
          -37,
          null,
          35,
          39,
          null,
          35,
          40,
          null,
          35,
          38,
          null,
          35,
          29,
          null,
          35,
          41,
          null,
          35,
          37,
          null,
          35,
          22,
          null,
          35,
          16,
          null,
          35,
          38,
          null,
          35,
          37,
          null,
          35,
          37,
          null,
          35,
          48,
          null,
          35,
          47,
          null,
          35,
          10,
          null,
          35,
          -9,
          null,
          35,
          -22,
          null,
          35,
          55,
          null,
          35,
          55,
          null,
          35,
          7,
          null
         ]
        },
        {
         "hoverinfo": "text",
         "marker": {
          "color": [
           1,
           103,
           1,
           1,
           1,
           1,
           1,
           1,
           1,
           1,
           1,
           1,
           1,
           1,
           1,
           1,
           1,
           1,
           1,
           1,
           1,
           1,
           1,
           1,
           1,
           1,
           1,
           1,
           1,
           1,
           1,
           1,
           1,
           1,
           1,
           1,
           1,
           1,
           1,
           1,
           1,
           1,
           1,
           1,
           1,
           1,
           1,
           1,
           1,
           1,
           1,
           1,
           1,
           1,
           1,
           1,
           1,
           1,
           1,
           1,
           1,
           1,
           1,
           1,
           1,
           1,
           1,
           1,
           1,
           1,
           1,
           1,
           1,
           1,
           1,
           1,
           1,
           1,
           1,
           1,
           1,
           1,
           1,
           1,
           1,
           1,
           1,
           1,
           1,
           1,
           1,
           1,
           1,
           1,
           1,
           1,
           1,
           1,
           1,
           1,
           1,
           1,
           1,
           1
          ],
          "colorbar": {
           "thickness": 15,
           "title": {
            "side": "right",
            "text": "Node Connections"
           },
           "xanchor": "left"
          },
          "colorscale": [
           [
            0,
            "rgb(255,245,240)"
           ],
           [
            0.125,
            "rgb(254,224,210)"
           ],
           [
            0.25,
            "rgb(252,187,161)"
           ],
           [
            0.375,
            "rgb(252,146,114)"
           ],
           [
            0.5,
            "rgb(251,106,74)"
           ],
           [
            0.625,
            "rgb(239,59,44)"
           ],
           [
            0.75,
            "rgb(203,24,29)"
           ],
           [
            0.875,
            "rgb(165,15,21)"
           ],
           [
            1,
            "rgb(103,0,13)"
           ]
          ],
          "line": {
           "width": 2
          },
          "reversescale": false,
          "showscale": false,
          "size": 6
         },
         "mode": "markers",
         "type": "scatter",
         "x": [
          121,
          140,
          126,
          72,
          100,
          -71,
          141,
          -97,
          130,
          105,
          113,
          -157,
          135,
          -73,
          120,
          101,
          -118,
          136,
          -87,
          128,
          -117,
          106,
          103,
          121,
          -123,
          -114,
          -79,
          2,
          134,
          77,
          -116,
          24,
          12,
          8,
          12,
          0,
          127,
          133,
          113,
          103,
          121,
          120,
          116,
          121,
          123,
          120,
          118,
          125,
          -84,
          -83,
          144,
          -93,
          -122,
          -122,
          145,
          55,
          54,
          132,
          136,
          106,
          115,
          135,
          130,
          132,
          131,
          134,
          69,
          142,
          116,
          126,
          145,
          37,
          51,
          8,
          135,
          118,
          153,
          -149,
          151,
          132,
          144,
          4,
          6,
          8,
          174,
          -104,
          -74,
          -77,
          -95,
          28,
          139,
          113,
          96,
          140,
          -122,
          -121,
          16,
          106,
          123,
          147,
          166,
          12,
          37,
          79
         ],
         "y": [
          14,
          35,
          37,
          19,
          13,
          42,
          42,
          32,
          33,
          21,
          22,
          21,
          34,
          40,
          22,
          2,
          33,
          34,
          41,
          35,
          32,
          10,
          1,
          25,
          49,
          51,
          43,
          49,
          7,
          28,
          32,
          60,
          41,
          45,
          45,
          51,
          26,
          35,
          23,
          30,
          38,
          30,
          40,
          31,
          41,
          36,
          24,
          43,
          33,
          42,
          13,
          44,
          45,
          47,
          15,
          25,
          24,
          34,
          36,
          -6,
          -8,
          34,
          31,
          33,
          33,
          34,
          41,
          46,
          5,
          33,
          -16,
          55,
          25,
          50,
          48,
          31,
          -28,
          -17,
          -33,
          43,
          -37,
          52,
          51,
          47,
          -37,
          39,
          40,
          38,
          29,
          41,
          37,
          22,
          16,
          38,
          37,
          37,
          48,
          47,
          10,
          -9,
          -22,
          55,
          55,
          7
         ]
        }
       ],
       "layout": {
        "annotations": [
         {
          "showarrow": false,
          "text": "",
          "x": 0.005,
          "xref": "paper",
          "y": -0.002,
          "yref": "paper"
         }
        ],
        "hovermode": "closest",
        "margin": {
         "b": 20,
         "l": 5,
         "r": 5,
         "t": 40
        },
        "paper_bgcolor": "rgba(0,0,0,0)",
        "plot_bgcolor": "rgba(0,0,0,0)",
        "showlegend": false,
        "template": {
         "data": {
          "bar": [
           {
            "error_x": {
             "color": "#2a3f5f"
            },
            "error_y": {
             "color": "#2a3f5f"
            },
            "marker": {
             "line": {
              "color": "#E5ECF6",
              "width": 0.5
             },
             "pattern": {
              "fillmode": "overlay",
              "size": 10,
              "solidity": 0.2
             }
            },
            "type": "bar"
           }
          ],
          "barpolar": [
           {
            "marker": {
             "line": {
              "color": "#E5ECF6",
              "width": 0.5
             },
             "pattern": {
              "fillmode": "overlay",
              "size": 10,
              "solidity": 0.2
             }
            },
            "type": "barpolar"
           }
          ],
          "carpet": [
           {
            "aaxis": {
             "endlinecolor": "#2a3f5f",
             "gridcolor": "white",
             "linecolor": "white",
             "minorgridcolor": "white",
             "startlinecolor": "#2a3f5f"
            },
            "baxis": {
             "endlinecolor": "#2a3f5f",
             "gridcolor": "white",
             "linecolor": "white",
             "minorgridcolor": "white",
             "startlinecolor": "#2a3f5f"
            },
            "type": "carpet"
           }
          ],
          "choropleth": [
           {
            "colorbar": {
             "outlinewidth": 0,
             "ticks": ""
            },
            "type": "choropleth"
           }
          ],
          "contour": [
           {
            "colorbar": {
             "outlinewidth": 0,
             "ticks": ""
            },
            "colorscale": [
             [
              0,
              "#0d0887"
             ],
             [
              0.1111111111111111,
              "#46039f"
             ],
             [
              0.2222222222222222,
              "#7201a8"
             ],
             [
              0.3333333333333333,
              "#9c179e"
             ],
             [
              0.4444444444444444,
              "#bd3786"
             ],
             [
              0.5555555555555556,
              "#d8576b"
             ],
             [
              0.6666666666666666,
              "#ed7953"
             ],
             [
              0.7777777777777778,
              "#fb9f3a"
             ],
             [
              0.8888888888888888,
              "#fdca26"
             ],
             [
              1,
              "#f0f921"
             ]
            ],
            "type": "contour"
           }
          ],
          "contourcarpet": [
           {
            "colorbar": {
             "outlinewidth": 0,
             "ticks": ""
            },
            "type": "contourcarpet"
           }
          ],
          "heatmap": [
           {
            "colorbar": {
             "outlinewidth": 0,
             "ticks": ""
            },
            "colorscale": [
             [
              0,
              "#0d0887"
             ],
             [
              0.1111111111111111,
              "#46039f"
             ],
             [
              0.2222222222222222,
              "#7201a8"
             ],
             [
              0.3333333333333333,
              "#9c179e"
             ],
             [
              0.4444444444444444,
              "#bd3786"
             ],
             [
              0.5555555555555556,
              "#d8576b"
             ],
             [
              0.6666666666666666,
              "#ed7953"
             ],
             [
              0.7777777777777778,
              "#fb9f3a"
             ],
             [
              0.8888888888888888,
              "#fdca26"
             ],
             [
              1,
              "#f0f921"
             ]
            ],
            "type": "heatmap"
           }
          ],
          "heatmapgl": [
           {
            "colorbar": {
             "outlinewidth": 0,
             "ticks": ""
            },
            "colorscale": [
             [
              0,
              "#0d0887"
             ],
             [
              0.1111111111111111,
              "#46039f"
             ],
             [
              0.2222222222222222,
              "#7201a8"
             ],
             [
              0.3333333333333333,
              "#9c179e"
             ],
             [
              0.4444444444444444,
              "#bd3786"
             ],
             [
              0.5555555555555556,
              "#d8576b"
             ],
             [
              0.6666666666666666,
              "#ed7953"
             ],
             [
              0.7777777777777778,
              "#fb9f3a"
             ],
             [
              0.8888888888888888,
              "#fdca26"
             ],
             [
              1,
              "#f0f921"
             ]
            ],
            "type": "heatmapgl"
           }
          ],
          "histogram": [
           {
            "marker": {
             "pattern": {
              "fillmode": "overlay",
              "size": 10,
              "solidity": 0.2
             }
            },
            "type": "histogram"
           }
          ],
          "histogram2d": [
           {
            "colorbar": {
             "outlinewidth": 0,
             "ticks": ""
            },
            "colorscale": [
             [
              0,
              "#0d0887"
             ],
             [
              0.1111111111111111,
              "#46039f"
             ],
             [
              0.2222222222222222,
              "#7201a8"
             ],
             [
              0.3333333333333333,
              "#9c179e"
             ],
             [
              0.4444444444444444,
              "#bd3786"
             ],
             [
              0.5555555555555556,
              "#d8576b"
             ],
             [
              0.6666666666666666,
              "#ed7953"
             ],
             [
              0.7777777777777778,
              "#fb9f3a"
             ],
             [
              0.8888888888888888,
              "#fdca26"
             ],
             [
              1,
              "#f0f921"
             ]
            ],
            "type": "histogram2d"
           }
          ],
          "histogram2dcontour": [
           {
            "colorbar": {
             "outlinewidth": 0,
             "ticks": ""
            },
            "colorscale": [
             [
              0,
              "#0d0887"
             ],
             [
              0.1111111111111111,
              "#46039f"
             ],
             [
              0.2222222222222222,
              "#7201a8"
             ],
             [
              0.3333333333333333,
              "#9c179e"
             ],
             [
              0.4444444444444444,
              "#bd3786"
             ],
             [
              0.5555555555555556,
              "#d8576b"
             ],
             [
              0.6666666666666666,
              "#ed7953"
             ],
             [
              0.7777777777777778,
              "#fb9f3a"
             ],
             [
              0.8888888888888888,
              "#fdca26"
             ],
             [
              1,
              "#f0f921"
             ]
            ],
            "type": "histogram2dcontour"
           }
          ],
          "mesh3d": [
           {
            "colorbar": {
             "outlinewidth": 0,
             "ticks": ""
            },
            "type": "mesh3d"
           }
          ],
          "parcoords": [
           {
            "line": {
             "colorbar": {
              "outlinewidth": 0,
              "ticks": ""
             }
            },
            "type": "parcoords"
           }
          ],
          "pie": [
           {
            "automargin": true,
            "type": "pie"
           }
          ],
          "scatter": [
           {
            "marker": {
             "colorbar": {
              "outlinewidth": 0,
              "ticks": ""
             }
            },
            "type": "scatter"
           }
          ],
          "scatter3d": [
           {
            "line": {
             "colorbar": {
              "outlinewidth": 0,
              "ticks": ""
             }
            },
            "marker": {
             "colorbar": {
              "outlinewidth": 0,
              "ticks": ""
             }
            },
            "type": "scatter3d"
           }
          ],
          "scattercarpet": [
           {
            "marker": {
             "colorbar": {
              "outlinewidth": 0,
              "ticks": ""
             }
            },
            "type": "scattercarpet"
           }
          ],
          "scattergeo": [
           {
            "marker": {
             "colorbar": {
              "outlinewidth": 0,
              "ticks": ""
             }
            },
            "type": "scattergeo"
           }
          ],
          "scattergl": [
           {
            "marker": {
             "colorbar": {
              "outlinewidth": 0,
              "ticks": ""
             }
            },
            "type": "scattergl"
           }
          ],
          "scattermapbox": [
           {
            "marker": {
             "colorbar": {
              "outlinewidth": 0,
              "ticks": ""
             }
            },
            "type": "scattermapbox"
           }
          ],
          "scatterpolar": [
           {
            "marker": {
             "colorbar": {
              "outlinewidth": 0,
              "ticks": ""
             }
            },
            "type": "scatterpolar"
           }
          ],
          "scatterpolargl": [
           {
            "marker": {
             "colorbar": {
              "outlinewidth": 0,
              "ticks": ""
             }
            },
            "type": "scatterpolargl"
           }
          ],
          "scatterternary": [
           {
            "marker": {
             "colorbar": {
              "outlinewidth": 0,
              "ticks": ""
             }
            },
            "type": "scatterternary"
           }
          ],
          "surface": [
           {
            "colorbar": {
             "outlinewidth": 0,
             "ticks": ""
            },
            "colorscale": [
             [
              0,
              "#0d0887"
             ],
             [
              0.1111111111111111,
              "#46039f"
             ],
             [
              0.2222222222222222,
              "#7201a8"
             ],
             [
              0.3333333333333333,
              "#9c179e"
             ],
             [
              0.4444444444444444,
              "#bd3786"
             ],
             [
              0.5555555555555556,
              "#d8576b"
             ],
             [
              0.6666666666666666,
              "#ed7953"
             ],
             [
              0.7777777777777778,
              "#fb9f3a"
             ],
             [
              0.8888888888888888,
              "#fdca26"
             ],
             [
              1,
              "#f0f921"
             ]
            ],
            "type": "surface"
           }
          ],
          "table": [
           {
            "cells": {
             "fill": {
              "color": "#EBF0F8"
             },
             "line": {
              "color": "white"
             }
            },
            "header": {
             "fill": {
              "color": "#C8D4E3"
             },
             "line": {
              "color": "white"
             }
            },
            "type": "table"
           }
          ]
         },
         "layout": {
          "annotationdefaults": {
           "arrowcolor": "#2a3f5f",
           "arrowhead": 0,
           "arrowwidth": 1
          },
          "autotypenumbers": "strict",
          "coloraxis": {
           "colorbar": {
            "outlinewidth": 0,
            "ticks": ""
           }
          },
          "colorscale": {
           "diverging": [
            [
             0,
             "#8e0152"
            ],
            [
             0.1,
             "#c51b7d"
            ],
            [
             0.2,
             "#de77ae"
            ],
            [
             0.3,
             "#f1b6da"
            ],
            [
             0.4,
             "#fde0ef"
            ],
            [
             0.5,
             "#f7f7f7"
            ],
            [
             0.6,
             "#e6f5d0"
            ],
            [
             0.7,
             "#b8e186"
            ],
            [
             0.8,
             "#7fbc41"
            ],
            [
             0.9,
             "#4d9221"
            ],
            [
             1,
             "#276419"
            ]
           ],
           "sequential": [
            [
             0,
             "#0d0887"
            ],
            [
             0.1111111111111111,
             "#46039f"
            ],
            [
             0.2222222222222222,
             "#7201a8"
            ],
            [
             0.3333333333333333,
             "#9c179e"
            ],
            [
             0.4444444444444444,
             "#bd3786"
            ],
            [
             0.5555555555555556,
             "#d8576b"
            ],
            [
             0.6666666666666666,
             "#ed7953"
            ],
            [
             0.7777777777777778,
             "#fb9f3a"
            ],
            [
             0.8888888888888888,
             "#fdca26"
            ],
            [
             1,
             "#f0f921"
            ]
           ],
           "sequentialminus": [
            [
             0,
             "#0d0887"
            ],
            [
             0.1111111111111111,
             "#46039f"
            ],
            [
             0.2222222222222222,
             "#7201a8"
            ],
            [
             0.3333333333333333,
             "#9c179e"
            ],
            [
             0.4444444444444444,
             "#bd3786"
            ],
            [
             0.5555555555555556,
             "#d8576b"
            ],
            [
             0.6666666666666666,
             "#ed7953"
            ],
            [
             0.7777777777777778,
             "#fb9f3a"
            ],
            [
             0.8888888888888888,
             "#fdca26"
            ],
            [
             1,
             "#f0f921"
            ]
           ]
          },
          "colorway": [
           "#636efa",
           "#EF553B",
           "#00cc96",
           "#ab63fa",
           "#FFA15A",
           "#19d3f3",
           "#FF6692",
           "#B6E880",
           "#FF97FF",
           "#FECB52"
          ],
          "font": {
           "color": "#2a3f5f"
          },
          "geo": {
           "bgcolor": "white",
           "lakecolor": "white",
           "landcolor": "#E5ECF6",
           "showlakes": true,
           "showland": true,
           "subunitcolor": "white"
          },
          "hoverlabel": {
           "align": "left"
          },
          "hovermode": "closest",
          "mapbox": {
           "style": "light"
          },
          "paper_bgcolor": "white",
          "plot_bgcolor": "#E5ECF6",
          "polar": {
           "angularaxis": {
            "gridcolor": "white",
            "linecolor": "white",
            "ticks": ""
           },
           "bgcolor": "#E5ECF6",
           "radialaxis": {
            "gridcolor": "white",
            "linecolor": "white",
            "ticks": ""
           }
          },
          "scene": {
           "xaxis": {
            "backgroundcolor": "#E5ECF6",
            "gridcolor": "white",
            "gridwidth": 2,
            "linecolor": "white",
            "showbackground": true,
            "ticks": "",
            "zerolinecolor": "white"
           },
           "yaxis": {
            "backgroundcolor": "#E5ECF6",
            "gridcolor": "white",
            "gridwidth": 2,
            "linecolor": "white",
            "showbackground": true,
            "ticks": "",
            "zerolinecolor": "white"
           },
           "zaxis": {
            "backgroundcolor": "#E5ECF6",
            "gridcolor": "white",
            "gridwidth": 2,
            "linecolor": "white",
            "showbackground": true,
            "ticks": "",
            "zerolinecolor": "white"
           }
          },
          "shapedefaults": {
           "line": {
            "color": "#2a3f5f"
           }
          },
          "ternary": {
           "aaxis": {
            "gridcolor": "white",
            "linecolor": "white",
            "ticks": ""
           },
           "baxis": {
            "gridcolor": "white",
            "linecolor": "white",
            "ticks": ""
           },
           "bgcolor": "#E5ECF6",
           "caxis": {
            "gridcolor": "white",
            "linecolor": "white",
            "ticks": ""
           }
          },
          "title": {
           "x": 0.05
          },
          "xaxis": {
           "automargin": true,
           "gridcolor": "white",
           "linecolor": "white",
           "ticks": "",
           "title": {
            "standoff": 15
           },
           "zerolinecolor": "white",
           "zerolinewidth": 2
          },
          "yaxis": {
           "automargin": true,
           "gridcolor": "white",
           "linecolor": "white",
           "ticks": "",
           "title": {
            "standoff": 15
           },
           "zerolinecolor": "white",
           "zerolinewidth": 2
          }
         }
        },
        "title": {
         "font": {
          "size": 16
         },
         "text": ""
        },
        "xaxis": {
         "showgrid": false,
         "showticklabels": false,
         "zeroline": false
        },
        "yaxis": {
         "showgrid": false,
         "showticklabels": false,
         "zeroline": false
        }
       }
      },
      "text/html": [
       "<div>                            <div id=\"fee7c0d2-ef22-4373-be02-45ead125b88a\" class=\"plotly-graph-div\" style=\"height:525px; width:100%;\"></div>            <script type=\"text/javascript\">                require([\"plotly\"], function(Plotly) {                    window.PLOTLYENV=window.PLOTLYENV || {};                                    if (document.getElementById(\"fee7c0d2-ef22-4373-be02-45ead125b88a\")) {                    Plotly.newPlot(                        \"fee7c0d2-ef22-4373-be02-45ead125b88a\",                        [{\"hoverinfo\":\"none\",\"line\":{\"color\":\"#888\",\"width\":0.5},\"mode\":\"lines\",\"x\":[121,140,null,140,126,null,140,72,null,140,100,null,140,-71,null,140,141,null,140,-97,null,140,130,null,140,105,null,140,113,null,140,-157,null,140,135,null,140,-73,null,140,120,null,140,101,null,140,-118,null,140,136,null,140,-87,null,140,128,null,140,-117,null,140,106,null,140,103,null,140,121,null,140,-123,null,140,-114,null,140,-79,null,140,2,null,140,134,null,140,77,null,140,-116,null,140,24,null,140,12,null,140,8,null,140,12,null,140,0,null,140,127,null,140,133,null,140,113,null,140,103,null,140,121,null,140,120,null,140,116,null,140,121,null,140,123,null,140,120,null,140,118,null,140,125,null,140,-84,null,140,-83,null,140,144,null,140,-93,null,140,-122,null,140,-122,null,140,145,null,140,55,null,140,54,null,140,132,null,140,136,null,140,106,null,140,115,null,140,135,null,140,130,null,140,132,null,140,131,null,140,134,null,140,69,null,140,142,null,140,116,null,140,126,null,140,145,null,140,37,null,140,51,null,140,8,null,140,135,null,140,118,null,140,153,null,140,-149,null,140,151,null,140,132,null,140,144,null,140,4,null,140,6,null,140,8,null,140,174,null,140,-104,null,140,-74,null,140,-77,null,140,-95,null,140,28,null,140,139,null,140,113,null,140,96,null,140,140,null,140,-122,null,140,-121,null,140,16,null,140,106,null,140,123,null,140,147,null,140,166,null,140,12,null,140,37,null,140,79,null],\"y\":[14,35,null,35,37,null,35,19,null,35,13,null,35,42,null,35,42,null,35,32,null,35,33,null,35,21,null,35,22,null,35,21,null,35,34,null,35,40,null,35,22,null,35,2,null,35,33,null,35,34,null,35,41,null,35,35,null,35,32,null,35,10,null,35,1,null,35,25,null,35,49,null,35,51,null,35,43,null,35,49,null,35,7,null,35,28,null,35,32,null,35,60,null,35,41,null,35,45,null,35,45,null,35,51,null,35,26,null,35,35,null,35,23,null,35,30,null,35,38,null,35,30,null,35,40,null,35,31,null,35,41,null,35,36,null,35,24,null,35,43,null,35,33,null,35,42,null,35,13,null,35,44,null,35,45,null,35,47,null,35,15,null,35,25,null,35,24,null,35,34,null,35,36,null,35,-6,null,35,-8,null,35,34,null,35,31,null,35,33,null,35,33,null,35,34,null,35,41,null,35,46,null,35,5,null,35,33,null,35,-16,null,35,55,null,35,25,null,35,50,null,35,48,null,35,31,null,35,-28,null,35,-17,null,35,-33,null,35,43,null,35,-37,null,35,52,null,35,51,null,35,47,null,35,-37,null,35,39,null,35,40,null,35,38,null,35,29,null,35,41,null,35,37,null,35,22,null,35,16,null,35,38,null,35,37,null,35,37,null,35,48,null,35,47,null,35,10,null,35,-9,null,35,-22,null,35,55,null,35,55,null,35,7,null],\"type\":\"scatter\"},{\"hoverinfo\":\"text\",\"marker\":{\"color\":[1,103,1,1,1,1,1,1,1,1,1,1,1,1,1,1,1,1,1,1,1,1,1,1,1,1,1,1,1,1,1,1,1,1,1,1,1,1,1,1,1,1,1,1,1,1,1,1,1,1,1,1,1,1,1,1,1,1,1,1,1,1,1,1,1,1,1,1,1,1,1,1,1,1,1,1,1,1,1,1,1,1,1,1,1,1,1,1,1,1,1,1,1,1,1,1,1,1,1,1,1,1,1,1],\"colorbar\":{\"thickness\":15,\"title\":{\"side\":\"right\",\"text\":\"Node Connections\"},\"xanchor\":\"left\"},\"colorscale\":[[0.0,\"rgb(255,245,240)\"],[0.125,\"rgb(254,224,210)\"],[0.25,\"rgb(252,187,161)\"],[0.375,\"rgb(252,146,114)\"],[0.5,\"rgb(251,106,74)\"],[0.625,\"rgb(239,59,44)\"],[0.75,\"rgb(203,24,29)\"],[0.875,\"rgb(165,15,21)\"],[1.0,\"rgb(103,0,13)\"]],\"line\":{\"width\":2},\"reversescale\":false,\"showscale\":false,\"size\":6},\"mode\":\"markers\",\"x\":[121,140,126,72,100,-71,141,-97,130,105,113,-157,135,-73,120,101,-118,136,-87,128,-117,106,103,121,-123,-114,-79,2,134,77,-116,24,12,8,12,0,127,133,113,103,121,120,116,121,123,120,118,125,-84,-83,144,-93,-122,-122,145,55,54,132,136,106,115,135,130,132,131,134,69,142,116,126,145,37,51,8,135,118,153,-149,151,132,144,4,6,8,174,-104,-74,-77,-95,28,139,113,96,140,-122,-121,16,106,123,147,166,12,37,79],\"y\":[14,35,37,19,13,42,42,32,33,21,22,21,34,40,22,2,33,34,41,35,32,10,1,25,49,51,43,49,7,28,32,60,41,45,45,51,26,35,23,30,38,30,40,31,41,36,24,43,33,42,13,44,45,47,15,25,24,34,36,-6,-8,34,31,33,33,34,41,46,5,33,-16,55,25,50,48,31,-28,-17,-33,43,-37,52,51,47,-37,39,40,38,29,41,37,22,16,38,37,37,48,47,10,-9,-22,55,55,7],\"type\":\"scatter\"}],                        {\"annotations\":[{\"showarrow\":false,\"text\":\"\",\"x\":0.005,\"xref\":\"paper\",\"y\":-0.002,\"yref\":\"paper\"}],\"hovermode\":\"closest\",\"margin\":{\"b\":20,\"l\":5,\"r\":5,\"t\":40},\"paper_bgcolor\":\"rgba(0,0,0,0)\",\"plot_bgcolor\":\"rgba(0,0,0,0)\",\"showlegend\":false,\"title\":{\"font\":{\"size\":16},\"text\":\"\"},\"xaxis\":{\"showgrid\":false,\"showticklabels\":false,\"zeroline\":false},\"yaxis\":{\"showgrid\":false,\"showticklabels\":false,\"zeroline\":false},\"template\":{\"data\":{\"bar\":[{\"error_x\":{\"color\":\"#2a3f5f\"},\"error_y\":{\"color\":\"#2a3f5f\"},\"marker\":{\"line\":{\"color\":\"#E5ECF6\",\"width\":0.5},\"pattern\":{\"fillmode\":\"overlay\",\"size\":10,\"solidity\":0.2}},\"type\":\"bar\"}],\"barpolar\":[{\"marker\":{\"line\":{\"color\":\"#E5ECF6\",\"width\":0.5},\"pattern\":{\"fillmode\":\"overlay\",\"size\":10,\"solidity\":0.2}},\"type\":\"barpolar\"}],\"carpet\":[{\"aaxis\":{\"endlinecolor\":\"#2a3f5f\",\"gridcolor\":\"white\",\"linecolor\":\"white\",\"minorgridcolor\":\"white\",\"startlinecolor\":\"#2a3f5f\"},\"baxis\":{\"endlinecolor\":\"#2a3f5f\",\"gridcolor\":\"white\",\"linecolor\":\"white\",\"minorgridcolor\":\"white\",\"startlinecolor\":\"#2a3f5f\"},\"type\":\"carpet\"}],\"choropleth\":[{\"colorbar\":{\"outlinewidth\":0,\"ticks\":\"\"},\"type\":\"choropleth\"}],\"contour\":[{\"colorbar\":{\"outlinewidth\":0,\"ticks\":\"\"},\"colorscale\":[[0.0,\"#0d0887\"],[0.1111111111111111,\"#46039f\"],[0.2222222222222222,\"#7201a8\"],[0.3333333333333333,\"#9c179e\"],[0.4444444444444444,\"#bd3786\"],[0.5555555555555556,\"#d8576b\"],[0.6666666666666666,\"#ed7953\"],[0.7777777777777778,\"#fb9f3a\"],[0.8888888888888888,\"#fdca26\"],[1.0,\"#f0f921\"]],\"type\":\"contour\"}],\"contourcarpet\":[{\"colorbar\":{\"outlinewidth\":0,\"ticks\":\"\"},\"type\":\"contourcarpet\"}],\"heatmap\":[{\"colorbar\":{\"outlinewidth\":0,\"ticks\":\"\"},\"colorscale\":[[0.0,\"#0d0887\"],[0.1111111111111111,\"#46039f\"],[0.2222222222222222,\"#7201a8\"],[0.3333333333333333,\"#9c179e\"],[0.4444444444444444,\"#bd3786\"],[0.5555555555555556,\"#d8576b\"],[0.6666666666666666,\"#ed7953\"],[0.7777777777777778,\"#fb9f3a\"],[0.8888888888888888,\"#fdca26\"],[1.0,\"#f0f921\"]],\"type\":\"heatmap\"}],\"heatmapgl\":[{\"colorbar\":{\"outlinewidth\":0,\"ticks\":\"\"},\"colorscale\":[[0.0,\"#0d0887\"],[0.1111111111111111,\"#46039f\"],[0.2222222222222222,\"#7201a8\"],[0.3333333333333333,\"#9c179e\"],[0.4444444444444444,\"#bd3786\"],[0.5555555555555556,\"#d8576b\"],[0.6666666666666666,\"#ed7953\"],[0.7777777777777778,\"#fb9f3a\"],[0.8888888888888888,\"#fdca26\"],[1.0,\"#f0f921\"]],\"type\":\"heatmapgl\"}],\"histogram\":[{\"marker\":{\"pattern\":{\"fillmode\":\"overlay\",\"size\":10,\"solidity\":0.2}},\"type\":\"histogram\"}],\"histogram2d\":[{\"colorbar\":{\"outlinewidth\":0,\"ticks\":\"\"},\"colorscale\":[[0.0,\"#0d0887\"],[0.1111111111111111,\"#46039f\"],[0.2222222222222222,\"#7201a8\"],[0.3333333333333333,\"#9c179e\"],[0.4444444444444444,\"#bd3786\"],[0.5555555555555556,\"#d8576b\"],[0.6666666666666666,\"#ed7953\"],[0.7777777777777778,\"#fb9f3a\"],[0.8888888888888888,\"#fdca26\"],[1.0,\"#f0f921\"]],\"type\":\"histogram2d\"}],\"histogram2dcontour\":[{\"colorbar\":{\"outlinewidth\":0,\"ticks\":\"\"},\"colorscale\":[[0.0,\"#0d0887\"],[0.1111111111111111,\"#46039f\"],[0.2222222222222222,\"#7201a8\"],[0.3333333333333333,\"#9c179e\"],[0.4444444444444444,\"#bd3786\"],[0.5555555555555556,\"#d8576b\"],[0.6666666666666666,\"#ed7953\"],[0.7777777777777778,\"#fb9f3a\"],[0.8888888888888888,\"#fdca26\"],[1.0,\"#f0f921\"]],\"type\":\"histogram2dcontour\"}],\"mesh3d\":[{\"colorbar\":{\"outlinewidth\":0,\"ticks\":\"\"},\"type\":\"mesh3d\"}],\"parcoords\":[{\"line\":{\"colorbar\":{\"outlinewidth\":0,\"ticks\":\"\"}},\"type\":\"parcoords\"}],\"pie\":[{\"automargin\":true,\"type\":\"pie\"}],\"scatter\":[{\"marker\":{\"colorbar\":{\"outlinewidth\":0,\"ticks\":\"\"}},\"type\":\"scatter\"}],\"scatter3d\":[{\"line\":{\"colorbar\":{\"outlinewidth\":0,\"ticks\":\"\"}},\"marker\":{\"colorbar\":{\"outlinewidth\":0,\"ticks\":\"\"}},\"type\":\"scatter3d\"}],\"scattercarpet\":[{\"marker\":{\"colorbar\":{\"outlinewidth\":0,\"ticks\":\"\"}},\"type\":\"scattercarpet\"}],\"scattergeo\":[{\"marker\":{\"colorbar\":{\"outlinewidth\":0,\"ticks\":\"\"}},\"type\":\"scattergeo\"}],\"scattergl\":[{\"marker\":{\"colorbar\":{\"outlinewidth\":0,\"ticks\":\"\"}},\"type\":\"scattergl\"}],\"scattermapbox\":[{\"marker\":{\"colorbar\":{\"outlinewidth\":0,\"ticks\":\"\"}},\"type\":\"scattermapbox\"}],\"scatterpolar\":[{\"marker\":{\"colorbar\":{\"outlinewidth\":0,\"ticks\":\"\"}},\"type\":\"scatterpolar\"}],\"scatterpolargl\":[{\"marker\":{\"colorbar\":{\"outlinewidth\":0,\"ticks\":\"\"}},\"type\":\"scatterpolargl\"}],\"scatterternary\":[{\"marker\":{\"colorbar\":{\"outlinewidth\":0,\"ticks\":\"\"}},\"type\":\"scatterternary\"}],\"surface\":[{\"colorbar\":{\"outlinewidth\":0,\"ticks\":\"\"},\"colorscale\":[[0.0,\"#0d0887\"],[0.1111111111111111,\"#46039f\"],[0.2222222222222222,\"#7201a8\"],[0.3333333333333333,\"#9c179e\"],[0.4444444444444444,\"#bd3786\"],[0.5555555555555556,\"#d8576b\"],[0.6666666666666666,\"#ed7953\"],[0.7777777777777778,\"#fb9f3a\"],[0.8888888888888888,\"#fdca26\"],[1.0,\"#f0f921\"]],\"type\":\"surface\"}],\"table\":[{\"cells\":{\"fill\":{\"color\":\"#EBF0F8\"},\"line\":{\"color\":\"white\"}},\"header\":{\"fill\":{\"color\":\"#C8D4E3\"},\"line\":{\"color\":\"white\"}},\"type\":\"table\"}]},\"layout\":{\"annotationdefaults\":{\"arrowcolor\":\"#2a3f5f\",\"arrowhead\":0,\"arrowwidth\":1},\"autotypenumbers\":\"strict\",\"coloraxis\":{\"colorbar\":{\"outlinewidth\":0,\"ticks\":\"\"}},\"colorscale\":{\"diverging\":[[0,\"#8e0152\"],[0.1,\"#c51b7d\"],[0.2,\"#de77ae\"],[0.3,\"#f1b6da\"],[0.4,\"#fde0ef\"],[0.5,\"#f7f7f7\"],[0.6,\"#e6f5d0\"],[0.7,\"#b8e186\"],[0.8,\"#7fbc41\"],[0.9,\"#4d9221\"],[1,\"#276419\"]],\"sequential\":[[0.0,\"#0d0887\"],[0.1111111111111111,\"#46039f\"],[0.2222222222222222,\"#7201a8\"],[0.3333333333333333,\"#9c179e\"],[0.4444444444444444,\"#bd3786\"],[0.5555555555555556,\"#d8576b\"],[0.6666666666666666,\"#ed7953\"],[0.7777777777777778,\"#fb9f3a\"],[0.8888888888888888,\"#fdca26\"],[1.0,\"#f0f921\"]],\"sequentialminus\":[[0.0,\"#0d0887\"],[0.1111111111111111,\"#46039f\"],[0.2222222222222222,\"#7201a8\"],[0.3333333333333333,\"#9c179e\"],[0.4444444444444444,\"#bd3786\"],[0.5555555555555556,\"#d8576b\"],[0.6666666666666666,\"#ed7953\"],[0.7777777777777778,\"#fb9f3a\"],[0.8888888888888888,\"#fdca26\"],[1.0,\"#f0f921\"]]},\"colorway\":[\"#636efa\",\"#EF553B\",\"#00cc96\",\"#ab63fa\",\"#FFA15A\",\"#19d3f3\",\"#FF6692\",\"#B6E880\",\"#FF97FF\",\"#FECB52\"],\"font\":{\"color\":\"#2a3f5f\"},\"geo\":{\"bgcolor\":\"white\",\"lakecolor\":\"white\",\"landcolor\":\"#E5ECF6\",\"showlakes\":true,\"showland\":true,\"subunitcolor\":\"white\"},\"hoverlabel\":{\"align\":\"left\"},\"hovermode\":\"closest\",\"mapbox\":{\"style\":\"light\"},\"paper_bgcolor\":\"white\",\"plot_bgcolor\":\"#E5ECF6\",\"polar\":{\"angularaxis\":{\"gridcolor\":\"white\",\"linecolor\":\"white\",\"ticks\":\"\"},\"bgcolor\":\"#E5ECF6\",\"radialaxis\":{\"gridcolor\":\"white\",\"linecolor\":\"white\",\"ticks\":\"\"}},\"scene\":{\"xaxis\":{\"backgroundcolor\":\"#E5ECF6\",\"gridcolor\":\"white\",\"gridwidth\":2,\"linecolor\":\"white\",\"showbackground\":true,\"ticks\":\"\",\"zerolinecolor\":\"white\"},\"yaxis\":{\"backgroundcolor\":\"#E5ECF6\",\"gridcolor\":\"white\",\"gridwidth\":2,\"linecolor\":\"white\",\"showbackground\":true,\"ticks\":\"\",\"zerolinecolor\":\"white\"},\"zaxis\":{\"backgroundcolor\":\"#E5ECF6\",\"gridcolor\":\"white\",\"gridwidth\":2,\"linecolor\":\"white\",\"showbackground\":true,\"ticks\":\"\",\"zerolinecolor\":\"white\"}},\"shapedefaults\":{\"line\":{\"color\":\"#2a3f5f\"}},\"ternary\":{\"aaxis\":{\"gridcolor\":\"white\",\"linecolor\":\"white\",\"ticks\":\"\"},\"baxis\":{\"gridcolor\":\"white\",\"linecolor\":\"white\",\"ticks\":\"\"},\"bgcolor\":\"#E5ECF6\",\"caxis\":{\"gridcolor\":\"white\",\"linecolor\":\"white\",\"ticks\":\"\"}},\"title\":{\"x\":0.05},\"xaxis\":{\"automargin\":true,\"gridcolor\":\"white\",\"linecolor\":\"white\",\"ticks\":\"\",\"title\":{\"standoff\":15},\"zerolinecolor\":\"white\",\"zerolinewidth\":2},\"yaxis\":{\"automargin\":true,\"gridcolor\":\"white\",\"linecolor\":\"white\",\"ticks\":\"\",\"title\":{\"standoff\":15},\"zerolinecolor\":\"white\",\"zerolinewidth\":2}}}},                        {\"responsive\": true}                    ).then(function(){\n",
       "                            \n",
       "var gd = document.getElementById('fee7c0d2-ef22-4373-be02-45ead125b88a');\n",
       "var x = new MutationObserver(function (mutations, observer) {{\n",
       "        var display = window.getComputedStyle(gd).display;\n",
       "        if (!display || display === 'none') {{\n",
       "            console.log([gd, 'removed!']);\n",
       "            Plotly.purge(gd);\n",
       "            observer.disconnect();\n",
       "        }}\n",
       "}});\n",
       "\n",
       "// Listen for the removal of the full notebook cells\n",
       "var notebookContainer = gd.closest('#notebook-container');\n",
       "if (notebookContainer) {{\n",
       "    x.observe(notebookContainer, {childList: true});\n",
       "}}\n",
       "\n",
       "// Listen for the clearing of the current output cell\n",
       "var outputEl = gd.closest('.output');\n",
       "if (outputEl) {{\n",
       "    x.observe(outputEl, {childList: true});\n",
       "}}\n",
       "\n",
       "                        })                };                });            </script>        </div>"
      ]
     },
     "metadata": {},
     "output_type": "display_data"
    }
   ],
   "source": [
    "#create plotlyfigure\n",
    "fig = go.Figure(data=[edge_trace, node_trace],\n",
    "             layout=go.Layout(\n",
    "                title='',\n",
    "                titlefont_size=16,\n",
    "                showlegend=False,\n",
    "                paper_bgcolor='rgba(0,0,0,0)',\n",
    "                plot_bgcolor='rgba(0,0,0,0)',\n",
    "                hovermode='closest',\n",
    "                margin=dict(b=20,l=5,r=5,t=40),\n",
    "                annotations=[ dict(\n",
    "                    text=\"\",\n",
    "                    showarrow=False,\n",
    "                    xref=\"paper\", yref=\"paper\",\n",
    "                    x=0.005, y=-0.002 ) ],\n",
    "                xaxis=dict(showgrid=False, zeroline=False, showticklabels=False),\n",
    "                yaxis=dict(showgrid=False, zeroline=False, showticklabels=False))\n",
    "                )\n",
    "fig.show()"
   ]
  },
  {
   "cell_type": "code",
   "execution_count": 21,
   "id": "bf6cedb5",
   "metadata": {},
   "outputs": [],
   "source": [
    "#write figure to html\n",
    "fig.write_html(\"Tokyo.html\")"
   ]
  },
  {
   "cell_type": "code",
   "execution_count": null,
   "id": "443f8e3a",
   "metadata": {},
   "outputs": [],
   "source": []
  }
 ],
 "metadata": {
  "kernelspec": {
   "display_name": "Python 3 (ipykernel)",
   "language": "python",
   "name": "python3"
  },
  "language_info": {
   "codemirror_mode": {
    "name": "ipython",
    "version": 3
   },
   "file_extension": ".py",
   "mimetype": "text/x-python",
   "name": "python",
   "nbconvert_exporter": "python",
   "pygments_lexer": "ipython3",
   "version": "3.9.12"
  }
 },
 "nbformat": 4,
 "nbformat_minor": 5
}
